{
 "cells": [
  {
   "cell_type": "markdown",
   "id": "e8c9eece-feb9-48df-8c30-c0c94ae9e183",
   "metadata": {},
   "source": [
    "<h1 align=\"center\">Python Basics</h1>"
   ]
  },
  {
   "cell_type": "markdown",
   "id": "1497ebcd-01e8-4200-bbf9-74a35fa2e67c",
   "metadata": {},
   "source": [
    "<h3>Basic Syntax</h3>"
   ]
  },
  {
   "cell_type": "code",
   "execution_count": 3,
   "id": "fbb88553-9ba5-4d28-bc13-ca1b95a92c83",
   "metadata": {},
   "outputs": [
    {
     "name": "stdout",
     "output_type": "stream",
     "text": [
      "Hello World\n"
     ]
    }
   ],
   "source": [
    "print(\"Hello World\")"
   ]
  },
  {
   "cell_type": "markdown",
   "id": "b01b9a25-78a3-43a8-9dc6-f2bfad67552e",
   "metadata": {},
   "source": [
    "<h3>Comments</h3>"
   ]
  },
  {
   "cell_type": "code",
   "execution_count": 5,
   "id": "a1c6b7e4-109e-4a32-bf26-a9fd1754cb6e",
   "metadata": {},
   "outputs": [],
   "source": [
    "# Single Line Comment"
   ]
  },
  {
   "cell_type": "markdown",
   "id": "f46b72ac-272b-4468-8a4a-93c9aa615b2b",
   "metadata": {},
   "source": [
    "<h3>Variables</h3>"
   ]
  },
  {
   "cell_type": "code",
   "execution_count": 7,
   "id": "3780b961-2e67-47f2-9171-451326bb5424",
   "metadata": {},
   "outputs": [
    {
     "name": "stdout",
     "output_type": "stream",
     "text": [
      "The age of Asim Shahzad is 20\n",
      "The age of Asim is 19\n"
     ]
    }
   ],
   "source": [
    "name=\"Asim Shahzad\"\n",
    "age=20\n",
    "print(\"The age of {} is {}\".format(name,age))\n",
    "\n",
    "name, age = \"Asim\", 19 # Multiple Assignment\n",
    "print(\"The age of {} is {}\".format(name,age))"
   ]
  },
  {
   "cell_type": "markdown",
   "id": "89c87186-27aa-44fd-8474-4edeb1364d2b",
   "metadata": {},
   "source": [
    "<h3>Data Types</h3>"
   ]
  },
  {
   "cell_type": "code",
   "execution_count": 9,
   "id": "34fd3ffb-e464-4139-a206-0b95bcc4e1fb",
   "metadata": {},
   "outputs": [
    {
     "name": "stdout",
     "output_type": "stream",
     "text": [
      "<class 'str'>\n",
      "<class 'bool'>\n",
      "<class 'int'>\n",
      "<class 'float'>\n",
      "<class 'complex'>\n",
      "<class 'list'>\n",
      "<class 'tuple'>\n",
      "<class 'set'>\n",
      "<class 'dict'>\n"
     ]
    }
   ],
   "source": [
    "name=\"Asim\" # String\n",
    "is_adult=True # Boolean\n",
    "age=20 # Integer\n",
    "weight=69.5 # Float\n",
    "equation=5+7j # Complex\n",
    "skills=[\"Web Development\",\"Machine Learning\"] # List\n",
    "languages=(\"Python\",\"TypeScript\",\"Bash\") # Tuple\n",
    "natural_numbers={1,2,3,4,5} # Set\n",
    "user={\"name\" : \"Asim\", \"age\" : 20}\n",
    "print(type(name))\n",
    "print(type(is_adult))\n",
    "print(type(age))\n",
    "print(type(weight))\n",
    "print(type(equation))\n",
    "print(type(skills))\n",
    "print(type(languages))\n",
    "print(type(natural_numbers))\n",
    "print(type(user))"
   ]
  },
  {
   "cell_type": "markdown",
   "id": "b745e283-7d4c-4430-9f67-f9d149b95b3f",
   "metadata": {},
   "source": [
    "<h3>Numbers</h3>"
   ]
  },
  {
   "cell_type": "code",
   "execution_count": 11,
   "id": "42830ca9-a2d1-45cc-8537-c6ea04017f97",
   "metadata": {},
   "outputs": [
    {
     "name": "stdout",
     "output_type": "stream",
     "text": [
      "<class 'int'>\n",
      "<class 'float'>\n",
      "<class 'complex'>\n"
     ]
    }
   ],
   "source": [
    "age=20\n",
    "weight=69.5\n",
    "equation=5+7j\n",
    "print(type(age))\n",
    "print(type(weight))\n",
    "print(type(equation))"
   ]
  },
  {
   "cell_type": "markdown",
   "id": "cb83d3ad-993d-4b2e-a9fb-7441434bcd80",
   "metadata": {},
   "source": [
    "<h3>Casting</h3>"
   ]
  },
  {
   "cell_type": "code",
   "execution_count": 13,
   "id": "bdad6222-1648-46eb-804c-d28af7075535",
   "metadata": {},
   "outputs": [
    {
     "name": "stdout",
     "output_type": "stream",
     "text": [
      "<class 'int'>\n",
      "<class 'str'>\n",
      "<class 'float'>\n"
     ]
    }
   ],
   "source": [
    "age = int(\"20\") # From string to integer\n",
    "print(type(age))\n",
    "age=str(20) # From integer to string\n",
    "print(type(age))\n",
    "age=float(20) # From integer to float\n",
    "print(type(age))"
   ]
  },
  {
   "cell_type": "markdown",
   "id": "ffba6255-143e-4678-93a2-9f7a9fc05ff0",
   "metadata": {},
   "source": [
    "<h3>Strings</h3>"
   ]
  },
  {
   "cell_type": "code",
   "execution_count": 15,
   "id": "90b0e195-e7be-4bee-8d12-26112bc9b088",
   "metadata": {},
   "outputs": [
    {
     "name": "stdout",
     "output_type": "stream",
     "text": [
      "Asim Shahzad\n",
      "A\n",
      "12\n",
      "True\n",
      "Asim \n",
      "Shahzad\n",
      "ASIM SHAHZAD\n",
      "asim shahzad\n",
      "Asim shahzad\n",
      "aSIM sHAHZAD\n",
      "Asim Shahzadis Student\n",
      "Asim Shahzad is Student\n",
      "Asim Shahzad is Student\n"
     ]
    }
   ],
   "source": [
    "name = \"Asim Shahzad\"\n",
    "print(name)\n",
    "print(name[0])\n",
    "print(len(name))\n",
    "print(\"Asim\" in name)\n",
    "print(name[:5])\n",
    "print(name[5:])\n",
    "print(name.upper())\n",
    "print(name.lower())\n",
    "print(name.capitalize())\n",
    "print(name.swapcase())\n",
    "print(name + \"is Student\")\n",
    "print(\"{} is Student\".format(name))\n",
    "print(f\"{name} is Student\")"
   ]
  },
  {
   "cell_type": "markdown",
   "id": "38a96a69-ccd7-4f0d-ad70-a9be09f573bd",
   "metadata": {},
   "source": [
    "<h3>Booleans</h3>"
   ]
  },
  {
   "cell_type": "code",
   "execution_count": 17,
   "id": "92ea74af-17ac-437a-b0c5-988a35ac4f5c",
   "metadata": {},
   "outputs": [
    {
     "name": "stdout",
     "output_type": "stream",
     "text": [
      "False\n"
     ]
    }
   ],
   "source": [
    "isMale=True\n",
    "isStudent=True\n",
    "isFemale=bool(0)\n",
    "print(isFemale)"
   ]
  },
  {
   "cell_type": "markdown",
   "id": "bd1965d8-1ced-4460-bb00-1fe94f706603",
   "metadata": {},
   "source": [
    "<h3>Operators</h3>"
   ]
  },
  {
   "cell_type": "code",
   "execution_count": 19,
   "id": "4d84ccda-235b-4752-a1e6-b0eb120b5cb3",
   "metadata": {},
   "outputs": [
    {
     "name": "stdout",
     "output_type": "stream",
     "text": [
      "Addition 9\n",
      "Subtraction 1\n",
      "Multiplication 20\n",
      "Division 1.25\n",
      "Floor Division 1\n",
      "Modulus 1\n",
      "Exponent 625\n",
      "Equal False\n",
      "Not Equal True\n",
      "Lesser Then False\n",
      "Lesser Then Equal False\n",
      "Greater Then True\n",
      "Greater Then Equal True\n",
      "False\n",
      "True\n",
      "True\n",
      "True\n",
      "False\n",
      "True\n",
      "False\n"
     ]
    }
   ],
   "source": [
    "# Arithemtic Operators\n",
    "print(\"Addition\", 5 + 4)\n",
    "print(\"Subtraction\", 5 - 4)\n",
    "print(\"Multiplication\", 5 * 4)\n",
    "print(\"Division\", 5 / 4)\n",
    "print(\"Floor Division\", 5 // 4)\n",
    "print(\"Modulus\", 5 % 4)\n",
    "print(\"Exponent\", 5 ** 4)\n",
    "\n",
    "# Comparision Operators\n",
    "print(\"Equal\",4 == 5)\n",
    "print(\"Not Equal\",4 != 5)\n",
    "print(\"Lesser Then\",25 < 11)\n",
    "print(\"Lesser Then Equal\",25 <= 11)\n",
    "print(\"Greater Then\",25 > 11)\n",
    "print(\"Greater Then Equal\",25 >= 11)\n",
    "\n",
    "# Assignment Operators\n",
    "num = 10\n",
    "num += 10\n",
    "num -= 10\n",
    "num *= 10\n",
    "num /= 10\n",
    "num //= 10\n",
    "num %= 10\n",
    "num **= 10\n",
    "\n",
    "# Logical Operators\n",
    "print(True and False)\n",
    "print(True or False)\n",
    "print(not False)\n",
    "\n",
    "# Identity Operators\n",
    "print(True is True)\n",
    "print(True is not True)\n",
    "\n",
    "# Memebership Operatos\n",
    "print(\"Python\" in [\"Python\", \"TypeScript\"])\n",
    "print(\"Python\" not in [\"Python\", \"TypeScript\"])"
   ]
  }
 ],
 "metadata": {
  "kernelspec": {
   "display_name": "Python 3 (ipykernel)",
   "language": "python",
   "name": "python3"
  },
  "language_info": {
   "codemirror_mode": {
    "name": "ipython",
    "version": 3
   },
   "file_extension": ".py",
   "mimetype": "text/x-python",
   "name": "python",
   "nbconvert_exporter": "python",
   "pygments_lexer": "ipython3",
   "version": "3.12.4"
  }
 },
 "nbformat": 4,
 "nbformat_minor": 5
}
