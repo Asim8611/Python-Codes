{
 "cells": [
  {
   "cell_type": "code",
   "execution_count": 2,
   "id": "2dafcf61-1232-4e06-97c1-d03f3cb456b9",
   "metadata": {},
   "outputs": [
    {
     "name": "stdout",
     "output_type": "stream",
     "text": [
      "Cycle Detected\n"
     ]
    }
   ],
   "source": [
    "#Cycle Detection in DFS for undirected graph\n",
    "def dfs_cycle_detection(graph, node, visited, parent):\n",
    "    visited.add(node)  # Mark the node as visited\n",
    "    \n",
    "    for neighbor in graph[node]:\n",
    "        # If the neighbor is not visited, recursively call DFS\n",
    "        if neighbor not in visited:\n",
    "            if dfs_cycle_detection(graph, neighbor, visited, node):\n",
    "                return True\n",
    "        # If the neighbor is visited and is not the parent of the current node, a cycle exists\n",
    "        elif parent != neighbor:\n",
    "            return True\n",
    "    \n",
    "    return False\n",
    "\n",
    "# Graph with no cycles\n",
    "graph = {\n",
    "    0: [1, 2],\n",
    "    1: [0, 3, 4],\n",
    "    2: [0, 5],\n",
    "    3: [1],\n",
    "    4: [1, 5],\n",
    "    5: [2, 4]\n",
    "}\n",
    "\n",
    "visited = set()\n",
    "cycle_exists = dfs_cycle_detection(graph, 0, visited, -1)\n",
    "print(\"Cycle Detected\" if cycle_exists else \"No Cycle Detected\")\n"
   ]
  },
  {
   "cell_type": "code",
   "execution_count": 4,
   "id": "aaba2553-cab0-456b-9a26-0ba25ea34729",
   "metadata": {},
   "outputs": [
    {
     "name": "stdout",
     "output_type": "stream",
     "text": [
      "Cycle Detected\n"
     ]
    }
   ],
   "source": [
    "#Cycle Detection in DFS for directed graph\n",
    "def dfs_cycle_detection_directed(graph, node, visited, rec_stack):\n",
    "    visited.add(node)\n",
    "    rec_stack.add(node)  # Add the current node to recursion stack\n",
    "    \n",
    "    for neighbor in graph[node]:\n",
    "        if neighbor not in visited:\n",
    "            if dfs_cycle_detection_directed(graph, neighbor, visited, rec_stack):\n",
    "                return True\n",
    "        elif neighbor in rec_stack:\n",
    "            return True  # Cycle detected\n",
    "    \n",
    "    rec_stack.remove(node)  # Remove the node from the recursion stack\n",
    "    return False\n",
    "\n",
    "# Directed graph with a cycle\n",
    "graph_directed = {\n",
    "    0: [1],\n",
    "    1: [2],\n",
    "    2: [0, 3],\n",
    "    3: []\n",
    "}\n",
    "\n",
    "visited = set()\n",
    "rec_stack = set()\n",
    "cycle_exists = dfs_cycle_detection_directed(graph_directed, 0, visited, rec_stack)\n",
    "print(\"Cycle Detected\" if cycle_exists else \"No Cycle Detected\")\n"
   ]
  },
  {
   "cell_type": "code",
   "execution_count": 6,
   "id": "342756ef-15f2-4b1c-9953-a120dac0381b",
   "metadata": {},
   "outputs": [
    {
     "name": "stdout",
     "output_type": "stream",
     "text": [
      "Shortest path from 0 to 5: [0, 2, 5]\n"
     ]
    }
   ],
   "source": [
    "#Shortest Path in Unweighted Graph using BFS\n",
    "from collections import deque\n",
    "\n",
    "def bfs_shortest_path(graph, start, goal):\n",
    "    visited = set()\n",
    "    queue = deque([[start]])  # Queue stores paths, not just nodes\n",
    "    visited.add(start)\n",
    "\n",
    "    while queue:\n",
    "        path = queue.popleft()  # Get the first path in the queue\n",
    "        node = path[-1]  # The current node is the last node in the path\n",
    "\n",
    "        if node == goal:\n",
    "            return path  # Return the path if the goal is reached\n",
    "\n",
    "        for neighbor in graph[node]:\n",
    "            if neighbor not in visited:\n",
    "                visited.add(neighbor)\n",
    "                new_path = list(path)\n",
    "                new_path.append(neighbor)\n",
    "                queue.append(new_path)\n",
    "\n",
    "    return None  # If no path exists\n",
    "\n",
    "# Example Graph\n",
    "graph = {\n",
    "    0: [1, 2],\n",
    "    1: [0, 3, 4],\n",
    "    2: [0, 5],\n",
    "    3: [1],\n",
    "    4: [1, 5],\n",
    "    5: [2, 4]\n",
    "}\n",
    "\n",
    "path = bfs_shortest_path(graph, 0, 5)\n",
    "print(f\"Shortest path from 0 to 5: {path}\")\n"
   ]
  },
  {
   "cell_type": "code",
   "execution_count": 10,
   "id": "f657f67f-6fc2-40bb-9f53-57606d9385f1",
   "metadata": {},
   "outputs": [
    {
     "name": "stdout",
     "output_type": "stream",
     "text": [
      "DFS Traversal:\n",
      "0 1 3 4 5 2 6 7 "
     ]
    }
   ],
   "source": [
    "# Handling Disconnected Graphs for dfs\n",
    "def dfs(graph, node, visited):\n",
    "    visited.add(node)\n",
    "    print(node, end=\" \")\n",
    "    for neighbor in graph[node]:\n",
    "        if neighbor not in visited:\n",
    "            dfs(graph, neighbor, visited)\n",
    "\n",
    "def dfs_disconnected(graph):\n",
    "    visited = set()\n",
    "    for node in graph:\n",
    "        if node not in visited:\n",
    "            dfs(graph, node, visited)\n",
    "\n",
    "# Test for disconnected graph handling using DFS\n",
    "graph = {\n",
    "    0: [1, 2],\n",
    "    1: [0, 3, 4],\n",
    "    2: [0, 5],\n",
    "    3: [1],\n",
    "    4: [1, 5],\n",
    "    5: [2, 4],\n",
    "    6: [7],  # Disconnected component\n",
    "    7: [6]\n",
    "}\n",
    "\n",
    "print(\"DFS Traversal:\")\n",
    "dfs_disconnected(graph)\n"
   ]
  },
  {
   "cell_type": "code",
   "execution_count": 12,
   "id": "d1517f9a-c9ac-4c7d-8618-e5eafa0aad66",
   "metadata": {},
   "outputs": [
    {
     "name": "stdout",
     "output_type": "stream",
     "text": [
      "BFS Traversal:\n",
      "0 1 2 3 4 5 6 7 "
     ]
    }
   ],
   "source": [
    "# Handling Disconnected Graphs for bfs\n",
    "from collections import deque\n",
    "\n",
    "def bfs(graph, node, visited):\n",
    "    queue = deque([node])\n",
    "    visited.add(node)\n",
    "    while queue:\n",
    "        current_node = queue.popleft()\n",
    "        print(current_node, end=\" \")\n",
    "        for neighbor in graph[current_node]:\n",
    "            if neighbor not in visited:\n",
    "                queue.append(neighbor)\n",
    "                visited.add(neighbor)\n",
    "\n",
    "def bfs_disconnected(graph):\n",
    "    visited = set()\n",
    "    for node in graph:\n",
    "        if node not in visited:\n",
    "            bfs(graph, node, visited)\n",
    "\n",
    "# Test for disconnected graph handling using BFS\n",
    "graph = {\n",
    "    0: [1, 2],\n",
    "    1: [0, 3, 4],\n",
    "    2: [0, 5],\n",
    "    3: [1],\n",
    "    4: [1, 5],\n",
    "    5: [2, 4],\n",
    "    6: [7],  # Disconnected component\n",
    "    7: [6]\n",
    "}\n",
    "\n",
    "print(\"BFS Traversal:\")\n",
    "bfs_disconnected(graph)"
   ]
  },
  {
   "cell_type": "code",
   "execution_count": null,
   "id": "ad2e6fe7-e359-4127-824e-b61138707bf8",
   "metadata": {},
   "outputs": [],
   "source": []
  }
 ],
 "metadata": {
  "kernelspec": {
   "display_name": "Python 3 (ipykernel)",
   "language": "python",
   "name": "python3"
  },
  "language_info": {
   "codemirror_mode": {
    "name": "ipython",
    "version": 3
   },
   "file_extension": ".py",
   "mimetype": "text/x-python",
   "name": "python",
   "nbconvert_exporter": "python",
   "pygments_lexer": "ipython3",
   "version": "3.12.4"
  }
 },
 "nbformat": 4,
 "nbformat_minor": 5
}
