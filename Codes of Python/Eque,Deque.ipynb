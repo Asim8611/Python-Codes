{
 "cells": [
  {
   "cell_type": "code",
   "execution_count": 1,
   "id": "344d192c-52cb-4f37-bd87-affadabb6553",
   "metadata": {},
   "outputs": [
    {
     "name": "stdout",
     "output_type": "stream",
     "text": [
      "Path: [0, 1, 3, 6], Cost: 15\n"
     ]
    }
   ],
   "source": [
    "import heapq\n",
    "\n",
    "def uniform_cost_search( start, goal):\n",
    "    graph = {\n",
    "    0: [(1, 3), (2, 4)],\n",
    "    1: [(0, 3), (2, 3), (3, 9)],\n",
    "    2: [(0, 4), (1, 3), (5, 7)],\n",
    "    3: [(1, 9), (6, 3)],\n",
    "    5: [(2, 7), (4, 8)],\n",
    "    6: [(3, 3)]\n",
    "}\n",
    "    \n",
    "    pq = [(0, start, [])]\n",
    "    visited = set()\n",
    "\n",
    "    while pq:\n",
    "        cost, node, path = heapq.heappop(pq)\n",
    "        if node == goal:\n",
    "            return path + [node], cost\n",
    "        if node not in visited:\n",
    "            visited.add(node)\n",
    "            path = path + [node]\n",
    "            for neighbor, weight in graph[node]:\n",
    "                if neighbor not in visited:\n",
    "                    total_cost = cost + weight\n",
    "                    heapq.heappush(pq, (total_cost, neighbor, path))\n",
    "    return None, float('inf')\n",
    "start = 0\n",
    "goal = 6\n",
    "path, cost = uniform_cost_search( start, goal)\n",
    "print(f\"Path: {path}, Cost: {cost}\")"
   ]
  },
  {
   "cell_type": "code",
   "execution_count": 3,
   "id": "85592493-3c39-4ba2-83e1-8d58c659e047",
   "metadata": {},
   "outputs": [
    {
     "name": "stdout",
     "output_type": "stream",
     "text": [
      "Path: [0, 1, 3, 6]\n"
     ]
    }
   ],
   "source": [
    "from collections import deque\n",
    "\n",
    "def bidirectional_search(graph, start, goal):\n",
    "    if start == goal:\n",
    "        return [start]\n",
    "\n",
    "    forward_queue = deque([start])\n",
    "    backward_queue = deque([goal])\n",
    "\n",
    "    visited_forward = {start: None}\n",
    "    visited_backward = {goal: None}\n",
    "\n",
    "    def bfs(queue, visited, other_visited):\n",
    "        current = queue.popleft()\n",
    "        for neighbor in graph[current]:\n",
    "            if neighbor not in visited:\n",
    "                queue.append(neighbor)\n",
    "                visited[neighbor] = current\n",
    "                if neighbor in other_visited:\n",
    "                    return neighbor\n",
    "        return None\n",
    "\n",
    "    while forward_queue and backward_queue:\n",
    "        meeting_point = bfs(forward_queue, visited_forward, visited_backward)\n",
    "        if meeting_point:\n",
    "            break\n",
    "\n",
    "        meeting_point = bfs(backward_queue, visited_backward, visited_forward)\n",
    "        if meeting_point:\n",
    "            break\n",
    "    else:\n",
    "        return None  \n",
    "\n",
    "    path_forward = []\n",
    "    node = meeting_point\n",
    "    while node is not None:\n",
    "        path_forward.append(node)\n",
    "        node = visited_forward[node]\n",
    "    path_forward.reverse()\n",
    "\n",
    "    path_backward = []\n",
    "    node = visited_backward[meeting_point]\n",
    "    while node is not None:\n",
    "        path_backward.append(node)\n",
    "        node = visited_backward[node]\n",
    "\n",
    "    return path_forward + path_backward\n",
    "\n",
    "graph = {\n",
    "    0: [1, 2],\n",
    "    1: [0, 2, 3],\n",
    "    2: [0, 1, 5],\n",
    "    3: [1, 6],\n",
    "    5: [2, 4],\n",
    "    6: [3]\n",
    "}\n",
    "\n",
    "start = 0\n",
    "goal = 6\n",
    "path = bidirectional_search(graph, start, goal)\n",
    "print(f\"Path: {path}\")"
   ]
  },
  {
   "cell_type": "code",
   "execution_count": 5,
   "id": "68050e6e-34be-41ef-943e-24b503bd8bfd",
   "metadata": {},
   "outputs": [
    {
     "name": "stdout",
     "output_type": "stream",
     "text": [
      "('Path found between', 'A', 'and', 'F')\n"
     ]
    }
   ],
   "source": [
    "from collections import deque\n",
    "\n",
    "def bidirectional_search(graph, start, goal):\n",
    "    forward_queue = deque([start])\n",
    "    backward_queue = deque([goal])\n",
    "    \n",
    "    visited_forward = {start}\n",
    "    visited_backward = {goal}\n",
    "    \n",
    "    while forward_queue and backward_queue:\n",
    "        if forward_queue:\n",
    "            node = forward_queue.popleft()\n",
    "            for neighbor in graph[node]:\n",
    "                if neighbor in visited_backward:\n",
    "                    return \"Path found between\", start, \"and\", goal\n",
    "                if neighbor not in visited_forward:\n",
    "                    visited_forward.add(neighbor)\n",
    "                    forward_queue.append(neighbor)\n",
    "        if backward_queue:\n",
    "            node = backward_queue.popleft()\n",
    "            for neighbor in graph[node]:\n",
    "                if neighbor in visited_forward:\n",
    "                    return \"Path found between\", start, \"and\", goal\n",
    "                if neighbor not in visited_backward:\n",
    "                    visited_backward.add(neighbor)\n",
    "                    backward_queue.append(neighbor)\n",
    "    \n",
    "    return \"No path exists between\", start, \"and\", goal\n",
    "graph = {\n",
    "    'A': ['B', 'C'],\n",
    "    'B': ['A', 'D', 'E'],\n",
    "    'C': ['A', 'F'],\n",
    "    'D': ['B'],\n",
    "    'E': ['B', 'F'],\n",
    "    'F': ['C', 'E']\n",
    "}\n",
    "\n",
    "start_node = 'A'\n",
    "goal_node = 'F'\n",
    "\n",
    "result = bidirectional_search(graph, start_node, goal_node)\n",
    "print(result)"
   ]
  },
  {
   "cell_type": "code",
   "execution_count": null,
   "id": "fc8a2613-4d31-45f0-bc1a-30cac58e48bb",
   "metadata": {},
   "outputs": [],
   "source": []
  }
 ],
 "metadata": {
  "kernelspec": {
   "display_name": "Python 3 (ipykernel)",
   "language": "python",
   "name": "python3"
  },
  "language_info": {
   "codemirror_mode": {
    "name": "ipython",
    "version": 3
   },
   "file_extension": ".py",
   "mimetype": "text/x-python",
   "name": "python",
   "nbconvert_exporter": "python",
   "pygments_lexer": "ipython3",
   "version": "3.12.4"
  }
 },
 "nbformat": 4,
 "nbformat_minor": 5
}
