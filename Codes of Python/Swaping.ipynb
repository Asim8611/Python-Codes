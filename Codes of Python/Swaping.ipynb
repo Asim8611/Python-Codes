{
 "cells": [
  {
   "cell_type": "code",
   "execution_count": 75,
   "id": "c01d05ea-db92-46e5-be15-57dfa9df5b4d",
   "metadata": {},
   "outputs": [
    {
     "name": "stdout",
     "output_type": "stream",
     "text": [
      "Enter your first name:  Asim Shahzad\n"
     ]
    },
    {
     "name": "stdout",
     "output_type": "stream",
     "text": [
      "First name must be alphabetic.\n"
     ]
    },
    {
     "name": "stdout",
     "output_type": "stream",
     "text": [
      "Enter your first name:  Asim\n",
      "Enter your last name:  Shahzad\n",
      "Enter your username:  Asim2549\n"
     ]
    },
    {
     "name": "stdout",
     "output_type": "stream",
     "text": [
      "Registration successful! Welcome, Asim Shahzad (Asim2549)\n"
     ]
    }
   ],
   "source": [
    "#User Registration  \n",
    "def user_registration():\n",
    "    while True:\n",
    "        first_name = input(\"Enter your first name: \").capitalize()\n",
    "        if not first_name.isalpha():\n",
    "            print(\"First name must be alphabetic.\")\n",
    "            continue\n",
    "        break\n",
    "    while True:\n",
    "        last_name = input(\"Enter your last name: \").capitalize()\n",
    "        if not last_name.isalpha():\n",
    "            print(\"Last name must be alphabetic.\")\n",
    "            continue\n",
    "        break\n",
    "    while True:\n",
    "        username = input(\"Enter your username: \")\n",
    "        if not username.isalnum():\n",
    "            print(\"Username must be alphanumeric.\")\n",
    "            continue\n",
    "        break\n",
    "    print(f\"Registration successful! Welcome, {first_name} {last_name} ({username})\")\n",
    "user_registration()"
   ]
  },
  {
   "cell_type": "code",
   "execution_count": 76,
   "id": "15cf6741-7711-4c1b-a487-73e868c838fb",
   "metadata": {},
   "outputs": [
    {
     "name": "stdout",
     "output_type": "stream",
     "text": [
      "Create a password:  Asim@2549\n"
     ]
    },
    {
     "name": "stdout",
     "output_type": "stream",
     "text": [
      "Password strength check (swapped case): aSIM@2549\n",
      "Password setup successful!\n"
     ]
    }
   ],
   "source": [
    "#Password setup\n",
    "def password_setup():\n",
    "    while True:\n",
    "        password = input(\"Create a password: \")\n",
    "\n",
    "        if not any(char.islower() for char in password):\n",
    "            print(\"Password must include at least one lowercase letter.\")\n",
    "            continue\n",
    "        if not any(char.isupper() for char in password):\n",
    "            print(\"Password must include at least one uppercase letter.\")\n",
    "            continue\n",
    "        if not any(char.isdigit() for char in password):\n",
    "            print(\"Password must include at least one digit.\")\n",
    "            continue\n",
    "        if any(char.isspace() for char in password):\n",
    "            print(\"Password must not contain spaces.\")\n",
    "            continue\n",
    "        swapped_password = password.swapcase()\n",
    "        print(f\"Password strength check (swapped case): {swapped_password}\")\n",
    "\n",
    "        print(\"Password setup successful!\")\n",
    "        break\n",
    "\n",
    "password_setup()"
   ]
  },
  {
   "cell_type": "code",
   "execution_count": 77,
   "id": "e930c9a3-cbc3-4083-baa3-a2f280b5d790",
   "metadata": {},
   "outputs": [
    {
     "name": "stdout",
     "output_type": "stream",
     "text": [
      "Enter a brief description of yourself:  I'm a good software engineer\n"
     ]
    },
    {
     "name": "stdout",
     "output_type": "stream",
     "text": [
      "Centered Description: -----------I'm a good software engineer-----------\n",
      "The word 'I' occurs 1 times in the description.\n",
      "Updated Description: I'm a good software engineer\n"
     ]
    }
   ],
   "source": [
    "#Profile Description\n",
    "def profile_description():\n",
    "    description = input(\"Enter a brief description of yourself: \")\n",
    "\n",
    "    centered_description = description.center(50, '-')\n",
    "    print(f\"Centered Description: {centered_description}\")\n",
    "\n",
    "    word_to_count = \"I\"\n",
    "    count = description.count(word_to_count)\n",
    "    print(f\"The word '{word_to_count}' occurs {count} times in the description.\")\n",
    "\n",
    "    word_to_replace = \"boring\"\n",
    "    replacement_word = \"exciting\"\n",
    "    updated_description = description.replace(word_to_replace, replacement_word)\n",
    "    print(f\"Updated Description: {updated_description}\")\n",
    "profile_description()"
   ]
  },
  {
   "cell_type": "code",
   "execution_count": 78,
   "id": "9dba22de-07d8-40cd-a2a1-099311dfda1c",
   "metadata": {},
   "outputs": [
    {
     "name": "stdout",
     "output_type": "stream",
     "text": [
      "Enter your favorite hobbies, separated by commas:  reading,swimming,coding\n"
     ]
    },
    {
     "name": "stdout",
     "output_type": "stream",
     "text": [
      "Your hobbies: reading | swimming | coding\n"
     ]
    }
   ],
   "source": [
    "def user_preferences_setup():\n",
    "    while True:\n",
    "        hobbies_input = input(\"Enter your favorite hobbies, separated by commas: \")\n",
    "        hobbies_list = hobbies_input.split(',')\n",
    "        hobbies_list = [hobby.strip() for hobby in hobbies_list]\n",
    "        if not all(hobby.isalpha() for hobby in hobbies_list):\n",
    "            print(\"Hobbies must contain only alphabetic characters. Please try again.\")\n",
    "            continue\n",
    "        formatted_hobbies = ' | '.join(hobbies_list)\n",
    "\n",
    "        print(f\"Your hobbies: {formatted_hobbies}\")\n",
    "        break\n",
    "\n",
    "user_preferences_setup()\n",
    "\n"
   ]
  },
  {
   "cell_type": "code",
   "execution_count": 79,
   "id": "5bd44e9b-0414-434c-90d5-b122bb07dcbe",
   "metadata": {},
   "outputs": [
    {
     "name": "stdout",
     "output_type": "stream",
     "text": [
      "Enter your email:  Asim2549@gmail.com\n"
     ]
    },
    {
     "name": "stdout",
     "output_type": "stream",
     "text": [
      "Masked Email: A****@gmail.com\n"
     ]
    },
    {
     "name": "stdout",
     "output_type": "stream",
     "text": [
      "Is this your email? (yes/no):  yes\n"
     ]
    },
    {
     "name": "stdout",
     "output_type": "stream",
     "text": [
      "Email ends with the domain 'mail.com'.\n"
     ]
    },
    {
     "name": "stdout",
     "output_type": "stream",
     "text": [
      "Enter your verification code:  6548\n"
     ]
    },
    {
     "name": "stdout",
     "output_type": "stream",
     "text": [
      "Your verification code is: 06548\n"
     ]
    }
   ],
   "source": [
    "def account_verification():\n",
    "    email = input(\"Enter your email: \")\n",
    "\n",
    "    at_index = email.find('@')\n",
    "\n",
    "    if at_index == -1:\n",
    "        print(\"Invalid email format.\")\n",
    "        return\n",
    "\n",
    "    masked_email = email[0] + \"****\" + email[at_index:]\n",
    "    print(f\"Masked Email: {masked_email}\")\n",
    "\n",
    "    confirmation = input(\"Is this your email? (yes/no): \").strip().lower()\n",
    "    if confirmation != 'yes':\n",
    "        print(\"Email not confirmed.\")\n",
    "        return\n",
    "\n",
    "    prefix = \"j\"\n",
    "    domain = \"mail.com\"\n",
    "    if email.startswith(prefix):\n",
    "        print(f\"Email starts with the prefix '{prefix}'.\")\n",
    "    if email.endswith(domain):\n",
    "        print(f\"Email ends with the domain '{domain}'.\")\n",
    "\n",
    "    verification_code = input(\"Enter your verification code: \")\n",
    "\n",
    "    padded_code = verification_code.zfill(5)\n",
    "    print(f\"Your verification code is: {padded_code}\")\n",
    "\n",
    "account_verification()\n"
   ]
  },
  {
   "cell_type": "code",
   "execution_count": 81,
   "id": "ff3a98aa-47e7-4f80-9ae3-f6cca85ab972",
   "metadata": {},
   "outputs": [
    {
     "name": "stdout",
     "output_type": "stream",
     "text": [
      "-----------------PROFILE SUMMARY------------------\n",
      "First Name:                                    Asim\n",
      "Last Name:                                  Shahzad\n",
      "Username:                                  Asim2549\n",
      "---------------------HOBBIES----------------------\n",
      "           Reading | Swimming | Coding            \n",
      "-------------------DESCRIPTION--------------------\n",
      "I Am A Software Developer Who Loves To Learn New Things.\n"
     ]
    }
   ],
   "source": [
    "def display_profile_summary(first_name, last_name, username, hobbies, description):\n",
    "    first_name = first_name.title()\n",
    "    last_name = last_name.title()\n",
    "    username = username.title()\n",
    "    hobbies = [hobby.title() for hobby in hobbies]\n",
    "    description = description.title()\n",
    "    profile_header = \"PROFILE SUMMARY\".upper()\n",
    "    hobbies_header = \"HOBBIES\".upper()\n",
    "    description_header = \"DESCRIPTION\".upper()\n",
    "\n",
    "    print(profile_header.center(50, '-'))\n",
    "    print(f\"{'First Name:'.ljust(15)} {first_name.rjust(35)}\")\n",
    "    print(f\"{'Last Name:'.ljust(15)} {last_name.rjust(35)}\")\n",
    "    print(f\"{'Username:'.ljust(15)} {username.rjust(35)}\")\n",
    "    print(hobbies_header.center(50, '-'))\n",
    "    print(f\"{' | '.join(hobbies).center(50)}\")\n",
    "    print(description_header.center(50, '-'))\n",
    "    print(description.center(50))\n",
    "\n",
    "first_name = \"Asim\"\n",
    "last_name = \"Shahzad\"\n",
    "username = \"Asim2549\"\n",
    "hobbies = [\"reading\", \"swimming\", \"coding\"]\n",
    "description = \"I am a software developer who loves to learn new things.\"\n",
    "\n",
    "display_profile_summary(first_name, last_name, username, hobbies, description)\n"
   ]
  },
  {
   "cell_type": "code",
   "execution_count": 82,
   "id": "bce22a94-8e7a-4e22-9d60-ee629d99f8e3",
   "metadata": {},
   "outputs": [
    {
     "name": "stdout",
     "output_type": "stream",
     "text": [
      "Please rate your experience using the platform:  great work\n"
     ]
    },
    {
     "name": "stdout",
     "output_type": "stream",
     "text": [
      "Please rephrase your feedback in title case (e.g., 'Great Experience').\n"
     ]
    },
    {
     "name": "stdout",
     "output_type": "stream",
     "text": [
      "Please rate your experience using the platform:  great experience\n"
     ]
    },
    {
     "name": "stdout",
     "output_type": "stream",
     "text": [
      "Please rephrase your feedback in title case (e.g., 'Great Experience').\n"
     ]
    },
    {
     "name": "stdout",
     "output_type": "stream",
     "text": [
      "Please rate your experience using the platform:  Great Experience\n"
     ]
    },
    {
     "name": "stdout",
     "output_type": "stream",
     "text": [
      "Thank you for your feedback!\n"
     ]
    }
   ],
   "source": [
    "def user_feedback():\n",
    "    while True:\n",
    "        feedback = input(\"Please rate your experience using the platform: \")\n",
    "\n",
    "        feedback = feedback.expandtabs()\n",
    "        feedback = feedback.strip()\n",
    "        if not feedback.istitle():\n",
    "            print(\"Please rephrase your feedback in title case (e.g., 'Great Experience').\")\n",
    "            continue\n",
    "        print(\"Thank you for your feedback!\")\n",
    "        break\n",
    "\n",
    "user_feedback()\n"
   ]
  },
  {
   "cell_type": "code",
   "execution_count": 83,
   "id": "c2619c63-424e-437d-af7d-98a07674390e",
   "metadata": {},
   "outputs": [
    {
     "name": "stdout",
     "output_type": "stream",
     "text": [
      "Original Profile Info: Asim Shahzad, Asim2549, Reading | Swimming | Coding\n",
      "Encrypted Profile Info: nSZm FYfYafi, nSZm2549, EjfiZNX | FxZmmZNX | pOiZNX\n",
      "Encoded Profile Info (UTF-8): b'nSZm FYfYafi, nSZm2549, EjfiZNX | FxZmmZNX | pOiZNX'\n",
      "Decrypted Profile Info: Asim Shahzad, Asim2549, Reading | Swimming | Coding\n"
     ]
    }
   ],
   "source": [
    "original_chars = \"ABCDEFGHIJklmnopqrstuvwxyzabcdefghijKLMNOPQRSTUVWXYZ\"\n",
    "encrypted_chars = \"nopqrstuvwklmNOPQRSTUVxyzafghijWXYZABbcdeCDEFGHIJKLM\"\n",
    "\n",
    "def encrypt_data(data):\n",
    "    translation_table = str.maketrans(original_chars, encrypted_chars)\n",
    "    encrypted_data = data.translate(translation_table)\n",
    "    return encrypted_data\n",
    "\n",
    "def encode_utf8(data):\n",
    "    encoded_data = data.encode('utf-8')\n",
    "    return encoded_data\n",
    "\n",
    "profile_info = \"Asim Shahzad, Asim2549, Reading | Swimming | Coding\"\n",
    "encrypted_profile_info = encrypt_data(profile_info)\n",
    "encoded_profile_info = encode_utf8(encrypted_profile_info)\n",
    "\n",
    "print(f\"Original Profile Info: {profile_info}\")\n",
    "print(f\"Encrypted Profile Info: {encrypted_profile_info}\")\n",
    "print(f\"Encoded Profile Info (UTF-8): {encoded_profile_info}\")\n",
    "decrypted_profile_info = encrypted_profile_info.translate(str.maketrans(encrypted_chars, original_chars))\n",
    "print(f\"Decrypted Profile Info: {decrypted_profile_info}\")\n"
   ]
  },
  {
   "cell_type": "code",
   "execution_count": 84,
   "id": "c6ad7fce-bf9f-4030-a0d1-f770ec3bb277",
   "metadata": {},
   "outputs": [
    {
     "name": "stdout",
     "output_type": "stream",
     "text": [
      "Completion Status Code for Asim Shahzad: z \n"
     ]
    }
   ],
   "source": [
    "def generate_completion_status(name):\n",
    "    highest_char = max(name)\n",
    "    lowest_char = min(name)\n",
    "    completion_status_code = f\"{highest_char}{lowest_char}\"\n",
    "    return completion_status_code\n",
    "user_name = \"Asim Shahzad\"\n",
    "completion_status_code = generate_completion_status(user_name)\n",
    "print(f\"Completion Status Code for {user_name}: {completion_status_code}\")\n"
   ]
  },
  {
   "cell_type": "code",
   "execution_count": null,
   "id": "38e1ca64-1abb-4219-8aec-5a81110e7896",
   "metadata": {},
   "outputs": [],
   "source": []
  }
 ],
 "metadata": {
  "kernelspec": {
   "display_name": "Python 3 (ipykernel)",
   "language": "python",
   "name": "python3"
  },
  "language_info": {
   "codemirror_mode": {
    "name": "ipython",
    "version": 3
   },
   "file_extension": ".py",
   "mimetype": "text/x-python",
   "name": "python",
   "nbconvert_exporter": "python",
   "pygments_lexer": "ipython3",
   "version": "3.12.4"
  }
 },
 "nbformat": 4,
 "nbformat_minor": 5
}
