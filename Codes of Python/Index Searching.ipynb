{
 "cells": [
  {
   "cell_type": "code",
   "execution_count": 2,
   "id": "956f6cc1-ec71-4466-8565-781149fe44c4",
   "metadata": {},
   "outputs": [
    {
     "name": "stdout",
     "output_type": "stream",
     "text": [
      "Enter the number of elements in the array:  4\n"
     ]
    },
    {
     "name": "stdout",
     "output_type": "stream",
     "text": [
      "Enter the elements of the array:\n"
     ]
    },
    {
     "name": "stdout",
     "output_type": "stream",
     "text": [
      "Element 1:  23\n",
      "Element 2:  54\n",
      "Element 3:  32\n",
      "Element 4:  12\n"
     ]
    },
    {
     "name": "stdout",
     "output_type": "stream",
     "text": [
      "Sorted array: [12, 23, 32, 54]\n"
     ]
    },
    {
     "name": "stdout",
     "output_type": "stream",
     "text": [
      "Enter the element to search for:  23\n"
     ]
    },
    {
     "name": "stdout",
     "output_type": "stream",
     "text": [
      "Element 23 is present at index 1 in the sorted array.\n"
     ]
    }
   ],
   "source": [
    "def binary_search(arr, x):\n",
    "    left = 0\n",
    "    right = len(arr) - 1\n",
    "    while left <= right:\n",
    "        mid = (right + left) // 2\n",
    "        \n",
    "        if arr[mid] < x:\n",
    "            left = mid + 1\n",
    "\n",
    "        elif arr[mid] > x:\n",
    "            right = mid - 1\n",
    "\n",
    "        else:\n",
    "            return mid\n",
    "\n",
    "    return -1\n",
    "\n",
    "n = int(input(\"Enter the number of elements in the array: \"))\n",
    "\n",
    "arr = []\n",
    "print(\"Enter the elements of the array:\")\n",
    "for i in range(n):\n",
    "    element = int(input(f\"Element {i+1}: \"))\n",
    "    arr.append(element)\n",
    "\n",
    "arr.sort()\n",
    "print(f\"Sorted array: {arr}\")\n",
    "\n",
    "x = int(input(\"Enter the element to search for: \"))\n",
    "\n",
    "result = binary_search(arr, x)\n",
    "\n",
    "if result != -1:\n",
    "    print(f\"Element {x} is present at index {result} in the sorted array.\")\n",
    "else:\n",
    "    print(f\"Element {x} is not present in the array.\")"
   ]
  },
  {
   "cell_type": "code",
   "execution_count": 4,
   "id": "e76b28fa-ef8d-4c47-827f-b72062872a0b",
   "metadata": {},
   "outputs": [
    {
     "name": "stdout",
     "output_type": "stream",
     "text": [
      "Enter the number of strings in the array:  3\n"
     ]
    },
    {
     "name": "stdout",
     "output_type": "stream",
     "text": [
      "Enter the strings for the array:\n"
     ]
    },
    {
     "name": "stdout",
     "output_type": "stream",
     "text": [
      "String 1:  banana\n",
      "String 2:  grapes\n",
      "String 3:  apple\n"
     ]
    },
    {
     "name": "stdout",
     "output_type": "stream",
     "text": [
      "Sorted array: ['apple', 'banana', 'grapes']\n"
     ]
    },
    {
     "name": "stdout",
     "output_type": "stream",
     "text": [
      "Enter the string to search for:  grapes\n"
     ]
    },
    {
     "name": "stdout",
     "output_type": "stream",
     "text": [
      "String 'grapes' is present at index 2.\n"
     ]
    }
   ],
   "source": [
    "def binary_search(arr, x):\n",
    "    left = 0\n",
    "    right = len(arr) - 1\n",
    "    while left <= right:\n",
    "        mid = (right + left) // 2\n",
    "        \n",
    "        if arr[mid] < x:\n",
    "            left = mid + 1\n",
    "        elif arr[mid] > x:\n",
    "            right = mid - 1\n",
    "        else:\n",
    "            return mid\n",
    "\n",
    "    return -1\n",
    "\n",
    "n = int(input(\"Enter the number of strings in the array: \"))\n",
    "\n",
    "arr = []\n",
    "print(\"Enter the strings for the array:\")\n",
    "for i in range(n):\n",
    "    element = input(f\"String {i+1}: \")\n",
    "    arr.append(element)\n",
    "\n",
    "arr.sort()\n",
    "print(f\"Sorted array: {arr}\")\n",
    "\n",
    "x = input(\"Enter the string to search for: \")\n",
    "\n",
    "result = binary_search(arr, x)\n",
    "\n",
    "if result != -1:\n",
    "    print(f\"String '{x}' is present at index {result}.\")\n",
    "else:\n",
    "    print(f\"String '{x}' is not present in the array.\")"
   ]
  },
  {
   "cell_type": "code",
   "execution_count": 8,
   "id": "202b13e0-5838-4554-bfb0-d6ab9c50f3aa",
   "metadata": {},
   "outputs": [
    {
     "name": "stdout",
     "output_type": "stream",
     "text": [
      "Enter the file path:  lab4.csv\n",
      "Enter the word to search:  vegetable\n"
     ]
    },
    {
     "name": "stdout",
     "output_type": "stream",
     "text": [
      "Word 'vegetable' found on line 2.\n"
     ]
    }
   ],
   "source": [
    "def binary_search_file(lines, target):\n",
    "    left = 0\n",
    "    right = len(lines) - 1\n",
    "\n",
    "    while left <= right:\n",
    "        mid = (left + right) // 2\n",
    "        if target in lines[mid]:\n",
    "            return mid  \n",
    "        elif target > lines[mid]:  \n",
    "            left = mid + 1  \n",
    "        else:\n",
    "            right = mid - 1  \n",
    "\n",
    "    return -1  \n",
    "\n",
    "file_path = input(\"Enter the file path: \")\n",
    "target = input(\"Enter the word to search: \")\n",
    "\n",
    "try:\n",
    "    with open(file_path, 'r') as file:\n",
    "        lines = file.readlines()\n",
    "        lines = [line.strip() for line in lines]  \n",
    "        lines.sort()  \n",
    "\n",
    "    result = binary_search_file(lines, target)\n",
    "\n",
    "    if result != -1:\n",
    "        print(f\"Word '{target}' found on line {result + 1}.\")\n",
    "    else:\n",
    "        print(f\"Word '{target}' not found.\")\n",
    "\n",
    "except FileNotFoundError:\n",
    "    print(\"File not found\")"
   ]
  },
  {
   "cell_type": "code",
   "execution_count": 10,
   "id": "62d7eb8c-530d-4f9d-b536-2e9ed1b5d0b2",
   "metadata": {},
   "outputs": [
    {
     "name": "stdout",
     "output_type": "stream",
     "text": [
      "Enter the CSV file path:  task4.csv\n",
      "Enter the record (name or ID) to search for:  549\n"
     ]
    },
    {
     "name": "stdout",
     "output_type": "stream",
     "text": [
      "Record '549' found at line 3\n"
     ]
    }
   ],
   "source": [
    "def binary_search_records(file_path, target):\n",
    "    try:\n",
    "        with open(file_path, 'r') as file:\n",
    "            records = file.readlines()\n",
    "\n",
    "        records = [record.strip() for record in records]\n",
    "        records.sort()  \n",
    "\n",
    "        left, right = 0, len(records) - 1\n",
    "\n",
    "        while left <= right:\n",
    "            mid = (left + right) // 2\n",
    "            \n",
    "            if target in records[mid]:  \n",
    "                return mid \n",
    "            elif records[mid] < target:\n",
    "                left = mid + 1  \n",
    "            else:\n",
    "                right = mid - 1  \n",
    "\n",
    "        return -1  \n",
    "\n",
    "    except FileNotFoundError:\n",
    "        print(\"File not found\")\n",
    "        return -1\n",
    "\n",
    "file_path = input(\"Enter the CSV file path: \")  \n",
    "target = input(\"Enter the record (name or ID) to search for: \") \n",
    "\n",
    "result = binary_search_records(file_path, target)\n",
    "if result != -1:\n",
    "    print(f\"Record '{target}' found at line {result + 1}\")\n",
    "else:\n",
    "    print(f\"Record '{target}' not found in the file\")"
   ]
  },
  {
   "cell_type": "code",
   "execution_count": null,
   "id": "ae0826f5-1203-474b-9367-c15d4a201d75",
   "metadata": {},
   "outputs": [],
   "source": []
  }
 ],
 "metadata": {
  "kernelspec": {
   "display_name": "Python 3 (ipykernel)",
   "language": "python",
   "name": "python3"
  },
  "language_info": {
   "codemirror_mode": {
    "name": "ipython",
    "version": 3
   },
   "file_extension": ".py",
   "mimetype": "text/x-python",
   "name": "python",
   "nbconvert_exporter": "python",
   "pygments_lexer": "ipython3",
   "version": "3.12.4"
  }
 },
 "nbformat": 4,
 "nbformat_minor": 5
}
